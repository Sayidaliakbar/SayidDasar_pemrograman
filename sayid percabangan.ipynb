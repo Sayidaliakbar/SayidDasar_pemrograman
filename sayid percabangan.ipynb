{
 "cells": [
  {
   "cell_type": "code",
   "execution_count": null,
   "id": "30b5f47c",
   "metadata": {},
   "outputs": [],
   "source": [
    "kondisi percabangan adalah sebuah cara komputer untuk mengambil keputusan, jika terdapat 2 atau lebih statement\n",
    "sintaks :\n",
    "    1. jika terdapat 2 statement yang akan di eksekusi"
   ]
  },
  {
   "cell_type": "code",
   "execution_count": 6,
   "id": "46d1fa14",
   "metadata": {},
   "outputs": [
    {
     "name": "stdout",
     "output_type": "stream",
     "text": [
      "isikan bilangan5\n",
      "5adalah bilangan ganjil\n"
     ]
    }
   ],
   "source": [
    "nilai= int(input('isikan bilangan'))\n",
    "sisa_bagi =nilai %2\n",
    "\n",
    "if sisa_bagi ==0:\n",
    "    print(nilai,\"adalah bilangan genap\")\n",
    "else:\n",
    "    print(f\"{nilai}adalah bilangan ganjil\")\n"
   ]
  },
  {
   "cell_type": "code",
   "execution_count": 14,
   "id": "71ca721f",
   "metadata": {},
   "outputs": [
    {
     "ename": "SyntaxError",
     "evalue": "invalid syntax (1542667150.py, line 3)",
     "output_type": "error",
     "traceback": [
      "\u001b[1;36m  Input \u001b[1;32mIn [14]\u001b[1;36m\u001b[0m\n\u001b[1;33m    if nilai_mhs >=0 and adalah nilai_mhs < 50:\u001b[0m\n\u001b[1;37m                                ^\u001b[0m\n\u001b[1;31mSyntaxError\u001b[0m\u001b[1;31m:\u001b[0m invalid syntax\n"
     ]
    }
   ],
   "source": [
    "nilai_mhs =int(input('isikan nilai pemrograman mahasiswa:'))\n",
    "keterangan=\"\"\n",
    "if nilai_mhs >=0 and adalah nilai_mhs < 50:\n",
    "    keterangan=\"E\"\n",
    "elif nilai_mhs >=50 and nilai_mhs < 60:\n",
    "    keterangan=\"D\"\n",
    "    \n",
    "print (\"nilai huruf masasiswa:\",keterangan)"
   ]
  },
  {
   "cell_type": "code",
   "execution_count": null,
   "id": "5aed01ab",
   "metadata": {},
   "outputs": [],
   "source": []
  }
 ],
 "metadata": {
  "kernelspec": {
   "display_name": "Python 3 (ipykernel)",
   "language": "python",
   "name": "python3"
  },
  "language_info": {
   "codemirror_mode": {
    "name": "ipython",
    "version": 3
   },
   "file_extension": ".py",
   "mimetype": "text/x-python",
   "name": "python",
   "nbconvert_exporter": "python",
   "pygments_lexer": "ipython3",
   "version": "3.9.12"
  }
 },
 "nbformat": 4,
 "nbformat_minor": 5
}
