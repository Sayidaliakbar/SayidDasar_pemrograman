{
 "cells": [
  {
   "cell_type": "code",
   "execution_count": 1,
   "id": "b4b841b1",
   "metadata": {},
   "outputs": [
    {
     "name": "stdout",
     "output_type": "stream",
     "text": [
      "isikan  nama awalsayid\n",
      "isikan nama tengahali\n",
      "isikan nama akhirakbar\n",
      "selamat datang sayid ali akbar\n"
     ]
    }
   ],
   "source": [
    "fname = input ('isikan  nama awal')\n",
    "mname = input ('isikan nama tengah')\n",
    "lname = input ('isikan nama akhir')\n",
    "\n",
    "print ('selamat datang',fname,mname,lname)"
   ]
  },
  {
   "cell_type": "code",
   "execution_count": 4,
   "id": "22eb47f3",
   "metadata": {},
   "outputs": [
    {
     "name": "stdout",
     "output_type": "stream",
     "text": [
      "isikan bilangan 12\n",
      "isikan bilangan 23\n",
      "<class 'str'>\n",
      "hasil penjumlahan 5\n"
     ]
    }
   ],
   "source": [
    "bill1 = input('isikan bilangan 1')\n",
    "bill2 = input('isikan bilangan 2')\n",
    "print (type(bill1))\n",
    "hasil = int(bill1) +int(bill2)\n",
    "print ('hasil penjumlahan',hasil)"
   ]
  },
  {
   "cell_type": "code",
   "execution_count": 8,
   "id": "53efa57d",
   "metadata": {},
   "outputs": [
    {
     "name": "stdout",
     "output_type": "stream",
     "text": [
      "isikan panjang persegi12\n",
      "isikan lebar persegi4\n",
      "luas persegi panjang 48\n",
      "keliling persegi panjang 32\n"
     ]
    }
   ],
   "source": [
    "#luas => p * l\n",
    "#keliling => 2 * (p+l)\n",
    "\n",
    "p = input ('isikan panjang persegi')\n",
    "l = input ('isikan lebar persegi')\n",
    "\n",
    "luas= int(p) * int(l)\n",
    "keliling = 2* (int(p)+ int(l))\n",
    "\n",
    "print('luas persegi panjang',luas)\n",
    "print('keliling persegi panjang',keliling)"
   ]
  },
  {
   "cell_type": "code",
   "execution_count": 16,
   "id": "4ced9893",
   "metadata": {},
   "outputs": [
    {
     "name": "stdout",
     "output_type": "stream",
     "text": [
      "januari-febuari-maret-april\n"
     ]
    }
   ],
   "source": [
    "print (\"januari\",\"febuari\",\"maret\",\"april\",sep=\"-\"*1)"
   ]
  },
  {
   "cell_type": "code",
   "execution_count": 20,
   "id": "73464b47",
   "metadata": {},
   "outputs": [
    {
     "name": "stdout",
     "output_type": "stream",
     "text": [
      "perkalian 7 dengan 10 adalah 70 \n"
     ]
    }
   ],
   "source": [
    "number1 = 7\n",
    "number2 = 10\n",
    "\n",
    "#hasil perkalian dari 7 dengan 10 adalah 70\n",
    "print (\"perkalian {} dengan {} adalah {} \".format(number1,number2,number1 *number2))"
   ]
  },
  {
   "cell_type": "code",
   "execution_count": 22,
   "id": "959f20ed",
   "metadata": {},
   "outputs": [
    {
     "name": "stdout",
     "output_type": "stream",
     "text": [
      "urutan huruf sayidaliakbar\n"
     ]
    }
   ],
   "source": [
    "first_name =\"sayid\"\n",
    "middle_name =\"ali\"\n",
    "last_name =\"akbar\"\n",
    "print (\"urutan huruf {}{}{}\".format (first_name,middle_name,last_name))"
   ]
  },
  {
   "cell_type": "code",
   "execution_count": 31,
   "id": "5c5bdc10",
   "metadata": {},
   "outputs": [
    {
     "name": "stdout",
     "output_type": "stream",
     "text": [
      "sekarang tanggal 20 bulan maret dan tahun2024)\n"
     ]
    }
   ],
   "source": [
    "#sekarang tanggal 20 bulan maret tahun 2024\n",
    "print (\"sekarang tanggal {tanggal} bulan {bulan} dan tahun{tahun})\".\n",
    "       format(tanggal =20,bulan =\"maret\",tahun =2024))"
   ]
  },
  {
   "cell_type": "code",
   "execution_count": 35,
   "id": "34d8e3c6",
   "metadata": {},
   "outputs": [
    {
     "name": "stdout",
     "output_type": "stream",
     "text": [
      "huruf pertamana adalah: U\n",
      "huruf terakhir adalah: a\n",
      "huruf range 0-10 Universitas\n",
      "Putra\n",
      "Nusa Putra\n",
      "artuP asuN satisrevinU\n"
     ]
    }
   ],
   "source": [
    "kampus = \"Universitas Nusa Putra\"\n",
    "print (\"huruf pertamana adalah:\",kampus [0])\n",
    "print (\"huruf terakhir adalah:\",kampus [-1])\n",
    "print (\"huruf range 0-10\",kampus [0:11])\n",
    "print (kampus[-5:])\n",
    "print (kampus[12:])\n",
    "#reverse string \n",
    "print(kampus[::-1])"
   ]
  },
  {
   "cell_type": "code",
   "execution_count": 36,
   "id": "e6cf49e8",
   "metadata": {},
   "outputs": [
    {
     "name": "stdout",
     "output_type": "stream",
     "text": [
      "['jakarta', 'sukabumi', 'malang', 'bandung', 'bali', 'paris', 'impeldown']\n",
      "jakarta\n",
      "jakarta@sukabumi@malang@bandung@bali@paris@impeldown\n"
     ]
    }
   ],
   "source": [
    "#split => string -> list\n",
    "kota= \"jakarta sukabumi malang bandung bali paris impeldown\"\n",
    "list_kota =kota.split()\n",
    "print(list_kota)\n",
    "print(list_kota[0])\n",
    "#join => list -> string\n",
    "join_kota =\"@\".join(list_kota)\n",
    "print(join_kota)"
   ]
  },
  {
   "cell_type": "code",
   "execution_count": 15,
   "id": "bb2d8850",
   "metadata": {},
   "outputs": [
    {
     "name": "stdout",
     "output_type": "stream",
     "text": [
      "isikan nama anda:sayid ali\n",
      "isikan tangal lahir:28 agustus 2005\n"
     ]
    },
    {
     "ename": "TypeError",
     "evalue": "'tuple' object is not callable",
     "output_type": "error",
     "traceback": [
      "\u001b[1;31m---------------------------------------------------------------------------\u001b[0m",
      "\u001b[1;31mTypeError\u001b[0m                                 Traceback (most recent call last)",
      "Input \u001b[1;32mIn [15]\u001b[0m, in \u001b[0;36m<cell line: 14>\u001b[1;34m()\u001b[0m\n\u001b[0;32m     12\u001b[0m tgl \u001b[38;5;241m=\u001b[39m \u001b[38;5;28minput\u001b[39m (\u001b[38;5;124m'\u001b[39m\u001b[38;5;124misikan tangal lahir:\u001b[39m\u001b[38;5;124m'\u001b[39m)\n\u001b[0;32m     13\u001b[0m list_nama \u001b[38;5;241m=\u001b[39m nama\u001b[38;5;241m.\u001b[39msplit()\n\u001b[1;32m---> 14\u001b[0m \u001b[38;5;28;43mprint\u001b[39;49m\u001b[43m(\u001b[49m\u001b[38;5;124;43m\"\u001b[39;49m\u001b[38;5;124;43mnama awal\u001b[39;49m\u001b[38;5;124;43m\"\u001b[39;49m\u001b[43m,\u001b[49m\u001b[43mlist_nama\u001b[49m\u001b[43m[\u001b[49m\u001b[38;5;241;43m0\u001b[39;49m\u001b[43m]\u001b[49m\u001b[43m)\u001b[49m\n\u001b[0;32m     15\u001b[0m \u001b[38;5;28mprint\u001b[39m(\u001b[38;5;124m\"\u001b[39m\u001b[38;5;124mnama akhir\u001b[39m\u001b[38;5;124m\"\u001b[39m,list_nama[\u001b[38;5;241m1\u001b[39m])\n\u001b[0;32m     17\u001b[0m list_tgl \u001b[38;5;241m=\u001b[39m tgl\u001b[38;5;241m.\u001b[39msplit()\n",
      "\u001b[1;31mTypeError\u001b[0m: 'tuple' object is not callable"
     ]
    }
   ],
   "source": [
    "  \n",
    "\n"
   ]
  },
  {
   "cell_type": "code",
   "execution_count": null,
   "id": "f6117a14",
   "metadata": {},
   "outputs": [],
   "source": []
  }
 ],
 "metadata": {
  "kernelspec": {
   "display_name": "Python 3 (ipykernel)",
   "language": "python",
   "name": "python3"
  },
  "language_info": {
   "codemirror_mode": {
    "name": "ipython",
    "version": 3
   },
   "file_extension": ".py",
   "mimetype": "text/x-python",
   "name": "python",
   "nbconvert_exporter": "python",
   "pygments_lexer": "ipython3",
   "version": "3.9.12"
  }
 },
 "nbformat": 4,
 "nbformat_minor": 5
}
