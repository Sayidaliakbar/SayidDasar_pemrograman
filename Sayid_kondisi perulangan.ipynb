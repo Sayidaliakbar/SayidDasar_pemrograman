{
 "cells": [
  {
   "cell_type": "code",
   "execution_count": 1,
   "id": "979a4d96",
   "metadata": {},
   "outputs": [
    {
     "name": "stdout",
     "output_type": "stream",
     "text": [
      "1\n",
      "2\n",
      "3\n",
      "4\n",
      "5\n",
      "6\n",
      "7\n",
      "8\n",
      "9\n",
      "10\n"
     ]
    }
   ],
   "source": [
    "# for in range\n",
    "# print 1 - 10\n",
    "\n",
    "for i in range(1,11):\n",
    "    print (i)"
   ]
  },
  {
   "cell_type": "code",
   "execution_count": 6,
   "id": "f953b586",
   "metadata": {},
   "outputs": [
    {
     "name": "stdout",
     "output_type": "stream",
     "text": [
      "10\n",
      "20\n",
      "30\n",
      "40\n",
      "50\n",
      "60\n",
      "70\n",
      "80\n",
      "90\n",
      "100\n"
     ]
    }
   ],
   "source": [
    "#print 10 20 30 40 50 ----100\n",
    "\n",
    "for i in range(1,11):\n",
    "    print (i*10)"
   ]
  },
  {
   "cell_type": "code",
   "execution_count": 7,
   "id": "9e5152e8",
   "metadata": {},
   "outputs": [
    {
     "name": "stdout",
     "output_type": "stream",
     "text": [
      "10\n",
      "20\n",
      "30\n",
      "40\n",
      "50\n",
      "60\n",
      "70\n",
      "80\n",
      "90\n",
      "100\n"
     ]
    }
   ],
   "source": [
    "for i in range (10,110,10):\n",
    "    print (i)"
   ]
  },
  {
   "cell_type": "code",
   "execution_count": 8,
   "id": "5318c26d",
   "metadata": {},
   "outputs": [
    {
     "name": "stdout",
     "output_type": "stream",
     "text": [
      "10\n",
      "9\n",
      "8\n",
      "7\n",
      "6\n",
      "5\n",
      "4\n",
      "3\n",
      "2\n",
      "1\n"
     ]
    }
   ],
   "source": [
    "# 10 9 8 7 -----1\n",
    "\n",
    "for i in range (10,0,-1):\n",
    "    print(i)"
   ]
  },
  {
   "cell_type": "code",
   "execution_count": 13,
   "id": "bcc0c57e",
   "metadata": {},
   "outputs": [
    {
     "name": "stdout",
     "output_type": "stream",
     "text": [
      "1\n",
      "-2\n",
      "3\n",
      "-4\n",
      "5\n",
      "-6\n",
      "7\n",
      "-8\n",
      "9\n",
      "-10\n"
     ]
    }
   ],
   "source": [
    "# 1 -2 3 -4 5 -6 7-8 9 -10\n",
    "sign = 1\n",
    "for i in range (1,11):\n",
    "    print(i*sign)\n",
    "    sign*=-1"
   ]
  },
  {
   "cell_type": "code",
   "execution_count": 25,
   "id": "7048eb61",
   "metadata": {},
   "outputs": [
    {
     "name": "stdout",
     "output_type": "stream",
     "text": [
      "isikan bilangan:1\n",
      "isikan pangkat:2\n",
      "faktorial dari 1! adalah 2\n"
     ]
    }
   ],
   "source": [
    "#faktorial => linput 4!= 4*3*2*1 =24\n",
    "\n",
    "number =int(input('isikan bilangan:'))\n",
    "pangkat = int(input('isikan pangkat:'))\n",
    "result = 1\n",
    "for i in range (1,number+1):\n",
    "    result = result * pangkat\n",
    "\n",
    "print(f\"faktorial dari {number}! adalah {result}\")\n",
    "        "
   ]
  },
  {
   "cell_type": "code",
   "execution_count": 27,
   "id": "9aabc63e",
   "metadata": {},
   "outputs": [
    {
     "name": "stdout",
     "output_type": "stream",
     "text": [
      "isikan bilangan:3\n",
      "isikan pangkat:4\n",
      "3 pangkat 4 adalah 256\n"
     ]
    }
   ],
   "source": [
    "number =int(input('isikan bilangan:'))\n",
    "pangkat = int(input('isikan pangkat:'))\n",
    "result = 1\n",
    "for i in range (1,pangkat+1):\n",
    "     result = result *pangkat\n",
    "\n",
    "print(f\"{number} pangkat {pangkat} adalah {result}\")"
   ]
  },
  {
   "cell_type": "code",
   "execution_count": 39,
   "id": "3410d09f",
   "metadata": {},
   "outputs": [
    {
     "ename": "SyntaxError",
     "evalue": "invalid syntax (910810970.py, line 16)",
     "output_type": "error",
     "traceback": [
      "\u001b[1;36m  Input \u001b[1;32mIn [39]\u001b[1;36m\u001b[0m\n\u001b[1;33m    print(f\"{number} adalah \"bilangan prima\")\u001b[0m\n\u001b[1;37m                             ^\u001b[0m\n\u001b[1;31mSyntaxError\u001b[0m\u001b[1;31m:\u001b[0m invalid syntax\n"
     ]
    }
   ],
   "source": [
    "#bilangan prima\n",
    "#bill. prima  adalah bilangan yang habis jika di bagi dengan sendiri dan satu\n",
    "\n",
    "#bill. prima punya 2 faktor\n",
    "\n",
    "#jika number %i===0 maka faktor di increment(+1)\n",
    "#selesai perulangan, jika faktor==\n",
    "number = int(input('isikan bilangan:'))\n",
    "faktor =0\n",
    "\n",
    "for i in range(1, number+1):\n",
    "    sisa = number% i\n",
    "    if number%i ==0:\n",
    "        faktor = faktor + 1\n",
    "if faktor ==2:\n",
    "    print(f\"{number} adalah \"bilangan prima\")\n",
    "else:\n",
    "    print(f\"{number} adalah \"bilangan bukan prima\")\n",
    "    \n"
   ]
  },
  {
   "cell_type": "code",
   "execution_count": 41,
   "id": "1e34b936",
   "metadata": {},
   "outputs": [
    {
     "name": "stdout",
     "output_type": "stream",
     "text": [
      "22\n",
      "0 u\n",
      "1 n\n",
      "2 i\n",
      "3 v\n",
      "4 e\n",
      "5 r\n",
      "6 s\n",
      "7 i\n",
      "8 t\n",
      "9 a\n",
      "10 s\n",
      "11  \n",
      "12 n\n",
      "13 u\n",
      "14 s\n",
      "15 a\n",
      "16  \n",
      "17 p\n",
      "18 u\n",
      "19 t\n",
      "20 r\n",
      "21 a\n"
     ]
    }
   ],
   "source": [
    "kampus = \"universitas nusa putra\" #panjang 22\n",
    "print(len(kampus))\n",
    "\n",
    "for i, huruf in enumerate (kampus):\n",
    "    print(i,huruf)\n",
    "    "
   ]
  },
  {
   "cell_type": "code",
   "execution_count": 50,
   "id": "b2409f80",
   "metadata": {
    "scrolled": true
   },
   "outputs": [
    {
     "name": "stdout",
     "output_type": "stream",
     "text": [
      "jumlah huruf a:3\n",
      "jumlah huruf i:2\n",
      "jumlah huruf u:3\n",
      "jumlah huruf e:1\n",
      "jumlah huruf o:0\n",
      "jumlah huruf vocal:9\n"
     ]
    }
   ],
   "source": [
    "#menghitung jumlah huruf vokal\n",
    "kampus =\"universitas nusa putra\" #panjang 22\n",
    "panjang= len(kampus)\n",
    "vocal_a =0\n",
    "vocal_i =0\n",
    "vocal_u =0\n",
    "vocal_e =0\n",
    "vocal_o =0\n",
    "for i in range (0,panjang):\n",
    "    if kampus[i]=='a':\n",
    "        vocal_a +=1\n",
    "    elif kampus [i]=='i':\n",
    "            vocal_i +=1\n",
    "    elif kampus [i]=='u':\n",
    "            vocal_u +=1\n",
    "    elif kampus [i]=='e':\n",
    "            vocal_e +=1\n",
    "    elif kampus [i]=='o':\n",
    "            vocal_o +=1\n",
    "    \n",
    "print(f\"jumlah huruf a:{vocal_a}\")\n",
    "print(f\"jumlah huruf i:{vocal_i}\")\n",
    "print(f\"jumlah huruf u:{vocal_u}\")\n",
    "print(f\"jumlah huruf e:{vocal_e}\")\n",
    "print(f\"jumlah huruf o:{vocal_o}\")\n",
    "print(f\"jumlah huruf vocal:{vocal_a + vocal_i + vocal_u + vocal_e + vocal_o}\")\n"
   ]
  },
  {
   "cell_type": "code",
   "execution_count": 53,
   "id": "f9c1aa2b",
   "metadata": {},
   "outputs": [
    {
     "name": "stdout",
     "output_type": "stream",
     "text": [
      "isikan kalimat:aku\n",
      "u\n",
      "k\n",
      "a\n"
     ]
    }
   ],
   "source": [
    "kalimat = input('isikan kalimat:')\n",
    "panjang_kalimat =len(kalimat)\n",
    "\n",
    "#aku =>uka\n",
    "for i in range (0, panjang_kalimat):\n",
    "    print(kalimat[panjang_kalimat-i-1])"
   ]
  },
  {
   "cell_type": "code",
   "execution_count": null,
   "id": "458c4461",
   "metadata": {},
   "outputs": [
    {
     "name": "stdout",
     "output_type": "stream",
     "text": [
      "isikan kalimatkaka\n",
      "isikan kalimatkaka\n",
      "isikan kalimatkaka\n",
      "isikan kalimatkaka\n"
     ]
    }
   ],
   "source": [
    "ulang=\"y\"\n",
    "while(ulang== \"y\"):\n",
    "    kalimat = input(\"isikan kalimat\")\n",
    "    panjang_kalimat =len(kalimat)\n",
    "\n",
    "ispalindrome = True\n",
    "for i in range (0, panjang_kalimat):\n",
    "    urut = kalimat[i]\n",
    "    kebalikan =kalimat[panjang_kalimat-i-1]\n",
    "    if urut !=kebalikan:\n",
    "        ispalindrome = False\n",
    "        break\n",
    "if ispalindrome== True:\n",
    "    print (f\"{kalimat} adalah palindrome\")\n",
    "else:\n",
    "    print (f\"{kalimat} bukan palindrome\")\n",
    "ulang = input('apakah mau mengulang program?: Y/N')"
   ]
  },
  {
   "cell_type": "code",
   "execution_count": 3,
   "id": "d901bfa7",
   "metadata": {
    "scrolled": true
   },
   "outputs": [
    {
     "name": "stdout",
     "output_type": "stream",
     "text": [
      "i: 1 dan j :1\n",
      "i: 1 dan j :2\n",
      "i: 1 dan j :3\n",
      "i: 1 dan j :4\n",
      "i: 2 dan j :1\n",
      "i: 2 dan j :2\n",
      "i: 2 dan j :3\n",
      "i: 2 dan j :4\n",
      "i: 3 dan j :1\n",
      "i: 3 dan j :2\n",
      "i: 3 dan j :3\n",
      "i: 3 dan j :4\n",
      "i: 4 dan j :1\n",
      "i: 4 dan j :2\n",
      "i: 4 dan j :3\n",
      "i: 4 dan j :4\n"
     ]
    }
   ],
   "source": [
    "#nested for\n",
    "for i in range (1,5):\n",
    "    for j in range (1,5):\n",
    "        print (f\"i: {i} dan j :{j}\")"
   ]
  },
  {
   "cell_type": "code",
   "execution_count": null,
   "id": "502833e0",
   "metadata": {},
   "outputs": [],
   "source": []
  }
 ],
 "metadata": {
  "kernelspec": {
   "display_name": "Python 3 (ipykernel)",
   "language": "python",
   "name": "python3"
  },
  "language_info": {
   "codemirror_mode": {
    "name": "ipython",
    "version": 3
   },
   "file_extension": ".py",
   "mimetype": "text/x-python",
   "name": "python",
   "nbconvert_exporter": "python",
   "pygments_lexer": "ipython3",
   "version": "3.9.12"
  }
 },
 "nbformat": 4,
 "nbformat_minor": 5
}
