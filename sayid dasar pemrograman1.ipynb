{
 "cells": [
  {
   "cell_type": "markdown",
   "id": "9c0c02f3",
   "metadata": {},
   "source": [
    "  <h1>belajar variabel tipe data </h1>"
   ]
  },
  {
   "cell_type": "markdown",
   "id": "031ee5fb",
   "metadata": {},
   "source": [
    "tipe data di phyton yaitu <b>integer, float,boolean, string, complex </b>"
   ]
  },
  {
   "cell_type": "code",
   "execution_count": 45,
   "id": "d9b77d8c",
   "metadata": {},
   "outputs": [
    {
     "name": "stdout",
     "output_type": "stream",
     "text": [
      "100\n"
     ]
    }
   ],
   "source": [
    "data_integer =100\n",
    "data_integer\n",
    "print(data_integer)"
   ]
  },
  {
   "cell_type": "code",
   "execution_count": 13,
   "id": "f2151d25",
   "metadata": {},
   "outputs": [
    {
     "name": "stdout",
     "output_type": "stream",
     "text": [
      "(10, 5)\n",
      "<class 'tuple'>\n"
     ]
    }
   ],
   "source": [
    "data_float = 10,5\n",
    "print(data_fload)\n",
    "print(type(data_float))"
   ]
  },
  {
   "cell_type": "code",
   "execution_count": 15,
   "id": "3c1a6d35",
   "metadata": {},
   "outputs": [
    {
     "name": "stdout",
     "output_type": "stream",
     "text": [
      "True\n",
      "<class 'bool'>\n"
     ]
    }
   ],
   "source": [
    "data_boolean = True or False\n",
    "print(data_boolean)\n",
    "print(type(data_boolean))"
   ]
  },
  {
   "cell_type": "code",
   "execution_count": 16,
   "id": "92e56681",
   "metadata": {},
   "outputs": [
    {
     "name": "stdout",
     "output_type": "stream",
     "text": [
      "belajar \n",
      "<class 'str'>\n"
     ]
    }
   ],
   "source": [
    "data_string = \"belajar \"\n",
    "print(data_string)\n",
    "print(type(data_string))"
   ]
  },
  {
   "cell_type": "code",
   "execution_count": 18,
   "id": "22b21902",
   "metadata": {},
   "outputs": [
    {
     "name": "stdout",
     "output_type": "stream",
     "text": [
      "(5+6j)\n",
      "<class 'complex'>\n"
     ]
    }
   ],
   "source": [
    "data_complex = complex(5,6)\n",
    "print(data_complex)\n",
    "print(type(data_complex))"
   ]
  },
  {
   "cell_type": "markdown",
   "id": "e8ecf36e",
   "metadata": {},
   "source": [
    "<h2>casting</h2><chr>\n",
    "<b><font color = \"yellow\">casting</font> adalah proses melakukan konversi tipe data <br>\n",
    "<o1>\n",
    "        <li>sintak casting menggunakan (tipe data)</li>\n",
    "        <li>casting dapat dilakukan untuk semua tipe data<li>\n"
   ]
  },
  {
   "cell_type": "code",
   "execution_count": 25,
   "id": "91115aa2",
   "metadata": {},
   "outputs": [
    {
     "name": "stdout",
     "output_type": "stream",
     "text": [
      "100\n"
     ]
    }
   ],
   "source": [
    "print(data_integer)"
   ]
  },
  {
   "cell_type": "code",
   "execution_count": 41,
   "id": "790ccf11",
   "metadata": {},
   "outputs": [
    {
     "name": "stdout",
     "output_type": "stream",
     "text": [
      "100\n",
      "100.0\n",
      "True\n",
      "<class 'str'>\n",
      "<class 'float'>\n",
      "<class 'bool'>\n"
     ]
    }
   ],
   "source": [
    "int_to_string = str(data_integer)\n",
    "int_to_float = float(data_integer)\n",
    "int_to_bool = bool(data_integer)\n",
    "\n",
    "print(int_to_string)\n",
    "print(int_to_float)\n",
    "print(int_to_bool)\n",
    "\n",
    "print(type(int_to_string))\n",
    "print(type(int_to_float))\n",
    "print(type(int_to_bool))"
   ]
  },
  {
   "cell_type": "code",
   "execution_count": 46,
   "id": "b9321052",
   "metadata": {},
   "outputs": [
    {
     "name": "stdout",
     "output_type": "stream",
     "text": [
      "100\n",
      "100.0\n",
      "True\n"
     ]
    }
   ],
   "source": [
    "int_to_string = str(data_integer)\n",
    "int_to_float = float(data_integer)\n",
    "int_to_bool = bool(data_integer)\n",
    "\n",
    "print(int_to_string)\n",
    "print(int_to_float)\n",
    "print(int_to_bool)"
   ]
  },
  {
   "cell_type": "code",
   "execution_count": null,
   "id": "db35bd92",
   "metadata": {},
   "outputs": [],
   "source": []
  }
 ],
 "metadata": {
  "kernelspec": {
   "display_name": "Python 3 (ipykernel)",
   "language": "python",
   "name": "python3"
  },
  "language_info": {
   "codemirror_mode": {
    "name": "ipython",
    "version": 3
   },
   "file_extension": ".py",
   "mimetype": "text/x-python",
   "name": "python",
   "nbconvert_exporter": "python",
   "pygments_lexer": "ipython3",
   "version": "3.9.12"
  }
 },
 "nbformat": 4,
 "nbformat_minor": 5
}
